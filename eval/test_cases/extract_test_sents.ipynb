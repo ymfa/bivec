{
 "cells": [
  {
   "cell_type": "code",
   "execution_count": 5,
   "metadata": {},
   "outputs": [
    {
     "name": "stderr",
     "output_type": "stream",
     "text": [
      "DEBUG:root:prefix is sinica\n",
      "INFO:root:gold csv is sinica_gold.csv\n",
      "INFO:root:out test file is sinica_test\n"
     ]
    }
   ],
   "source": [
    "import sys\n",
    "import csv\n",
    "import pandas as pd\n",
    "from collections import defaultdict\n",
    "import logging\n",
    "import numpy as np\n",
    "\n",
    "#logging.basicConfig(filename='eval.log',level=logging.DEBUG)\n",
    "import logging\n",
    "if sys.argv[0]=='/opt/conda/lib/python3.6/site-packages/ipykernel_launcher.py':\n",
    "    prefix='sinica'\n",
    "    logging.basicConfig(level=logging.DEBUG)\n",
    "    logging.debug('prefix is {0}'.format(prefix))\n",
    "else:\n",
    "    logging.basicConfig(filename='extract_test_case.log',level=logging.DEBUG)\n",
    "\n",
    "    \n",
    "    \n",
    "    if len(sys.argv)<2:\n",
    "        logging.warning('result and gold not specified. ')\n",
    "\n",
    "    else:\n",
    "        prefix=sys.argv[1]\n",
    "\n",
    "gold=prefix+'_gold.csv'\n",
    "\n",
    "gold_out=prefix+'_test'\n",
    "logging.info ('gold csv is {0}'.format(gold))\n",
    "logging.info ('out test file is {0}'.format(gold_out))\n",
    "\n"
   ]
  },
  {
   "cell_type": "code",
   "execution_count": 18,
   "metadata": {},
   "outputs": [],
   "source": [
    "gold_csv = pd.read_csv(gold)\n",
    "lines=gold_csv['orig']\n",
    "with open(gold_out, 'w') as f:\n",
    "    for line in lines:\n",
    "        f.write(line+'\\n')"
   ]
  }
 ],
 "metadata": {
  "kernelspec": {
   "display_name": "Python 3",
   "language": "python",
   "name": "python3"
  },
  "language_info": {
   "codemirror_mode": {
    "name": "ipython",
    "version": 3
   },
   "file_extension": ".py",
   "mimetype": "text/x-python",
   "name": "python",
   "nbconvert_exporter": "python",
   "pygments_lexer": "ipython3",
   "version": "3.6.4"
  }
 },
 "nbformat": 4,
 "nbformat_minor": 2
}
