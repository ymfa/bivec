{
 "cells": [
  {
   "cell_type": "code",
   "execution_count": 15,
   "metadata": {},
   "outputs": [
    {
     "name": "stderr",
     "output_type": "stream",
     "text": [
      "WARNING:root:result and gold not specified\n"
     ]
    },
    {
     "name": "stdout",
     "output_type": "stream",
     "text": [
      "gold csv is ./sinica_gold.csv\n",
      "out test file is ./sinica_test\n"
     ]
    }
   ],
   "source": [
    "import sys\n",
    "import csv\n",
    "import pandas as pd\n",
    "from collections import defaultdict\n",
    "import logging\n",
    "import numpy as np\n",
    "\n",
    "#logging.basicConfig(filename='eval.log',level=logging.DEBUG)\n",
    "\n",
    "if len(sys.argv)<2:\n",
    "#if len(sys.argv)<5:\n",
    "    gold_pre='./sinica'\n",
    "    logging.warning('result and gold not specified')\n",
    "\n",
    "else:\n",
    "    gold_pre=sys.argv[1]\n",
    "\n",
    "gold=gold_pre+'_gold.csv'\n",
    "\n",
    "gold_out=gold_pre+'_test'\n",
    "print ('gold csv is {0}'.format(gold))\n",
    "print ('out test file is {0}'.format(gold_out))\n",
    "\n"
   ]
  },
  {
   "cell_type": "code",
   "execution_count": 18,
   "metadata": {},
   "outputs": [],
   "source": [
    "gold_csv = pd.read_csv(gold)\n",
    "lines=gold_csv['orig']\n",
    "with open(gold_out, 'w') as f:\n",
    "    for line in lines:\n",
    "        f.write(line+'\\n')"
   ]
  }
 ],
 "metadata": {
  "kernelspec": {
   "display_name": "Python 3",
   "language": "python",
   "name": "python3"
  },
  "language_info": {
   "codemirror_mode": {
    "name": "ipython",
    "version": 3
   },
   "file_extension": ".py",
   "mimetype": "text/x-python",
   "name": "python",
   "nbconvert_exporter": "python",
   "pygments_lexer": "ipython3",
   "version": "3.6.4"
  }
 },
 "nbformat": 4,
 "nbformat_minor": 2
}
