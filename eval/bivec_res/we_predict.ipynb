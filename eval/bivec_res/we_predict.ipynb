{
 "cells": [
  {
   "cell_type": "code",
   "execution_count": 1,
   "metadata": {
    "scrolled": true
   },
   "outputs": [
    {
     "name": "stderr",
     "output_type": "stream",
     "text": [
      "INFO:root:tc_we fname ../../embeddings/out-5-50.3.de, sc_we sc fname ../../embeddings/out-5-50.3.outvec.en and win flag is 1\n"
     ]
    }
   ],
   "source": [
    "import sys\n",
    "sys.path.append(\"../../\")\n",
    "import logging\n",
    "from gensim.models import KeyedVectors\n",
    "from sklearn.metrics.pairwise import cosine_similarity as cosine\n",
    "from make_data import filter_char\n",
    "import string\n",
    "import pandas as pd\n",
    "\n",
    "# IO\n",
    "logging.basicConfig(level=logging.DEBUG)\n",
    "\n",
    "if sys.argv[0]=='/opt/conda/lib/python3.6/site-packages/ipykernel_launcher.py':\n",
    "    tc_model='../../embeddings/out-5-50.3.de'\n",
    "    outvec=1\n",
    "    win_flag=1\n",
    "    test_case_f='../test_cases/ldc_simp2trad_gold.csv'\n",
    "\n",
    "else:\n",
    "    \n",
    "\n",
    "    \n",
    "    if len(sys.argv)<5:\n",
    "        logging.warning('result and gold not specified!')\n",
    "        logging.warning('python [tc_model] [outvec](0 or 1) [win_flag](0 or 1) [test_case_gold_f]')\n",
    "        raise\n",
    "    else:\n",
    "        tc_model=sys.argv[1]\n",
    "        outvec=sys.argv[2]\n",
    "        win_flag=sys.argv[3]\n",
    "        test_case_f=sys.argv[4]\n",
    "        \n",
    "if int(outvec)==0:\n",
    "    sc_model=tc_model[:-2]+'en'\n",
    "\n",
    "elif int(outvec)==1:\n",
    "    sc_model=tc_model[:-2]+'outvec.en'\n",
    "\n",
    "model_base=sc_model.split('/')[-1]\n",
    "winsize=int(model_base.split('.')[0].split('-')[1])\n",
    "\n",
    "test_case_f_out='{0}_{1}'.format(test_case_f.split('/')[-1].split('.')[0],model_base)\n",
    "\n",
    "logging.info ('tc_we fname {0}, sc_we sc fname {1} and win flag is {2}'.format( tc_model,sc_model,win_flag))\n",
    "\n"
   ]
  },
  {
   "cell_type": "code",
   "execution_count": 2,
   "metadata": {},
   "outputs": [
    {
     "name": "stderr",
     "output_type": "stream",
     "text": [
      "INFO:gensim.models.utils_any2vec:loading projection weights from ../../embeddings/out-5-50.3.outvec.en\n",
      "DEBUG:smart_open.smart_open_lib:{'kw': {}, 'mode': 'rb', 'uri': '../../embeddings/out-5-50.3.outvec.en'}\n",
      "DEBUG:smart_open.smart_open_lib:encoding_wrapper: {'errors': 'strict', 'encoding': None, 'mode': 'rb', 'fileobj': <_io.BufferedReader name='../../embeddings/out-5-50.3.outvec.en'>}\n",
      "INFO:gensim.models.utils_any2vec:loaded (7526, 50) matrix from ../../embeddings/out-5-50.3.outvec.en\n",
      "INFO:gensim.models.utils_any2vec:loading projection weights from ../../embeddings/out-5-50.3.de\n",
      "DEBUG:smart_open.smart_open_lib:{'kw': {}, 'mode': 'rb', 'uri': '../../embeddings/out-5-50.3.de'}\n",
      "DEBUG:smart_open.smart_open_lib:encoding_wrapper: {'errors': 'strict', 'encoding': None, 'mode': 'rb', 'fileobj': <_io.BufferedReader name='../../embeddings/out-5-50.3.de'>}\n",
      "INFO:gensim.models.utils_any2vec:loaded (7798, 50) matrix from ../../embeddings/out-5-50.3.de\n"
     ]
    }
   ],
   "source": [
    "# process the we files\n",
    "\n",
    "sc_vectors = KeyedVectors.load_word2vec_format(sc_model, binary=False)\n",
    "tc_vectors = KeyedVectors.load_word2vec_format(tc_model, binary=False)\n",
    "\n",
    "\n",
    "\n"
   ]
  },
  {
   "cell_type": "code",
   "execution_count": 12,
   "metadata": {
    "scrolled": true
   },
   "outputs": [],
   "source": [
    "\n",
    "\n",
    "def predict(win_size,win_flag,input_sent,position,tc_vectors,sc_vectors,candidates):\n",
    "    before=filter_char(input_sent[0:position])\n",
    "    after=filter_char(input_sent[position+1:len(input_sent)])\n",
    "    input_sent=before+input_sent[position]+after\n",
    "    position=len(before)\n",
    "\n",
    "    if int(win_flag)==0: # use the whole sentence as context\n",
    "        context=list(range(len(input_sent)))\n",
    "    \n",
    "    else:\n",
    "        start=position-win_size\n",
    "        end=position+win_size+1\n",
    "        if start<=0:\n",
    "            start=0\n",
    "        if end>len(input_sent):\n",
    "            end=len(input_sent)\n",
    "        context=list(range(start,position))+list(range(position+1, end))\n",
    "    \n",
    "    score_dict={}\n",
    "    #print (context)\n",
    "    for candi in candidates:\n",
    "        #print (candi)\n",
    "        score_total=0\n",
    "        num_contextw=0\n",
    "        for context_i in context:\n",
    "            \n",
    "                context_w=input_sent[context_i]\n",
    "                #print (context_w)\n",
    "                try:\n",
    "                    score=cosine([sc_vectors[context_w]],[tc_vectors[candi]])[0][0]\n",
    "                    #print (score)\n",
    "                except KeyError as e:\n",
    "                        logging.warning (e)\n",
    "\n",
    "                        continue\n",
    "                score_total+=score\n",
    "                \n",
    "                num_contextw+=1\n",
    "        #print ('total',score_total,'num_contextw',num_contextw)\n",
    "        try:\n",
    "            score_dict[candi]=score_total/num_contextw\n",
    "        except ZeroDivisionError as e:\n",
    "            logging.warning(e)\n",
    "            continue\n",
    "    sort_key=sorted(score_dict.items(),key=lambda x:x[1], reverse=True)\n",
    "    return '-'.join([str(res[0])+':'+str(res[1]) for res in sort_key])\n",
    "#     res=sort_key[0][0]\n",
    "#     #out_sent=input_sent[:position]+res+input_sent[position:len(input_sent)]\n",
    "#     return sort_key\n",
    "    \n",
    "        \n",
    "        "
   ]
  },
  {
   "cell_type": "code",
   "execution_count": 4,
   "metadata": {},
   "outputs": [],
   "source": [
    "#read in candidates\n",
    "simp2trad_official='../../raw_data_process_cna_cmn/simp2multitrad_official.txt'\n",
    "\n",
    "multi_trad_official={}\n",
    "with open(simp2trad_official) as f:\n",
    "    for line in f:\n",
    "        line=line.strip()\n",
    "        line=line.split('\\t')\n",
    "        simp_char=line[0]\n",
    "        multi_trad_official[simp_char]=list(line[2].replace('～',line[0]))\n"
   ]
  },
  {
   "cell_type": "code",
   "execution_count": 5,
   "metadata": {},
   "outputs": [
    {
     "data": {
      "text/plain": [
       "'髮'"
      ]
     },
     "execution_count": 5,
     "metadata": {},
     "output_type": "execute_result"
    }
   ],
   "source": [
    "input_sent='aaa头发'\n",
    "position=4\n",
    "candidates=multi_trad_official[input_sent[position]]\n",
    "predict(winsize,win_flag,input_sent,position,tc_vectors,sc_vectors,candidates)"
   ]
  },
  {
   "cell_type": "code",
   "execution_count": 13,
   "metadata": {},
   "outputs": [],
   "source": [
    "# output predictions\n",
    "\n",
    "gold_csv = pd.read_csv(test_case_f)\n",
    "gold_dict=gold_csv.to_dict('records')\n"
   ]
  },
  {
   "cell_type": "code",
   "execution_count": 25,
   "metadata": {},
   "outputs": [
    {
     "data": {
      "text/plain": [
       "'1:2-3:4'"
      ]
     },
     "execution_count": 25,
     "metadata": {},
     "output_type": "execute_result"
    }
   ],
   "source": [
    "a=[(1,2),(3,4)]\n",
    "'-'.join([str(res[0])+':'+str(res[1]) for res in a])\n"
   ]
  },
  {
   "cell_type": "code",
   "execution_count": 14,
   "metadata": {},
   "outputs": [
    {
     "name": "stderr",
     "output_type": "stream",
     "text": [
      "WARNING:root:\"word '𫟵' not in vocabulary\"\n",
      "WARNING:root:\"word '𫟵' not in vocabulary\"\n",
      "WARNING:root:\"word '鉓' not in vocabulary\"\n",
      "WARNING:root:\"word '鉓' not in vocabulary\"\n"
     ]
    }
   ],
   "source": [
    "\n",
    "\n",
    "\n",
    "with open(test_case_f_out, 'w') as f_o:\n",
    "            #input_sent=filter_char(line.strip())\n",
    "            for line in gold_dict:\n",
    "                 \n",
    "                 position=line['char_index']\n",
    "                 candidates=multi_trad_official[line['orig_char']]\n",
    "                 input_sent=line['orig']\n",
    "                 res_char=predict(winsize,win_flag,input_sent,position,tc_vectors,sc_vectors,candidates)\n",
    "                 \n",
    "                 f_o.write(res_char+'\\n')"
   ]
  },
  {
   "cell_type": "code",
   "execution_count": null,
   "metadata": {},
   "outputs": [],
   "source": []
  }
 ],
 "metadata": {
  "kernelspec": {
   "display_name": "Python 3",
   "language": "python",
   "name": "python3"
  },
  "language_info": {
   "codemirror_mode": {
    "name": "ipython",
    "version": 3
   },
   "file_extension": ".py",
   "mimetype": "text/x-python",
   "name": "python",
   "nbconvert_exporter": "python",
   "pygments_lexer": "ipython3",
   "version": "3.6.4"
  }
 },
 "nbformat": 4,
 "nbformat_minor": 2
}
