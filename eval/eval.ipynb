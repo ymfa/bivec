{
 "cells": [
  {
   "cell_type": "code",
   "execution_count": 10,
   "metadata": {
    "scrolled": false
   },
   "outputs": [
    {
     "name": "stderr",
     "output_type": "stream",
     "text": [
      "INFO:root:result ./opencc/ldc_simp2trad_test_opencc_s2tw and gold ./test_cases/ldc_simp2trad_gold.csv,evaluting we\n"
     ]
    }
   ],
   "source": [
    "import sys\n",
    "import csv\n",
    "import pandas as pd\n",
    "from collections import defaultdict\n",
    "import logging\n",
    "logging.basicConfig(level=logging.DEBUG)\n",
    "\n",
    "simp2trad_official='../raw_data_process_cna_cmn/simp2multitrad_official.txt'\n",
    "if sys.argv[0]=='/opt/conda/lib/python3.6/site-packages/ipykernel_launcher.py':\n",
    "    result='./opencc/ldc_simp2trad_test_opencc_s2tw'\n",
    "    gold='./test_cases/ldc_simp2trad_gold.csv'\n",
    "    model='we'\n",
    "else:\n",
    "#     logging.basicConfig(filename='eval.log',level=logging.DEBUG)\n",
    "\n",
    "    \n",
    "    if len(sys.argv)<4:\n",
    "        #result='./opencc/sinica_test_opencc_s2tw'\n",
    "        #gold='./test_cases/sinica_gold.csv'\n",
    "        logging.warning('python [result file] [gold.csv] [model(we or opencc)]')\n",
    "        raise\n",
    "    else:\n",
    "        result=sys.argv[1]\n",
    "        gold=sys.argv[2]\n",
    "        model=sys.argv[3]\n",
    "\n",
    "logging.info ('result {0} and gold {1},evaluting {2}'.format( result,gold,model))\n",
    "\n"
   ]
  },
  {
   "cell_type": "code",
   "execution_count": 3,
   "metadata": {},
   "outputs": [],
   "source": [
    "gold_csv = pd.read_csv(gold)\n",
    "gold_dict=gold_csv.to_dict('records')\n"
   ]
  },
  {
   "cell_type": "code",
   "execution_count": 11,
   "metadata": {},
   "outputs": [],
   "source": [
    "multi_trad_official=[]\n",
    "with open(simp2trad_official) as f:\n",
    "    for line in f:\n",
    "        line=line.strip()\n",
    "        line=line.split('\\t')\n",
    "        simp_char=line[0]\n",
    "        trad_chars=list(line[2].replace('～',line[0]))\n",
    "        multi_trad_official+=trad_chars\n"
   ]
  },
  {
   "cell_type": "code",
   "execution_count": 12,
   "metadata": {},
   "outputs": [],
   "source": [
    "yitizi={'裡':'裏','裏':'裡','衚':'胡', '胡':'衚','覆':'復'}\n"
   ]
  },
  {
   "cell_type": "code",
   "execution_count": 6,
   "metadata": {},
   "outputs": [
    {
     "name": "stdout",
     "output_type": "stream",
     "text": [
      "12264 incorrect cases\n",
      "of total 165829\n",
      "error rate 0.07395570135501028\n"
     ]
    }
   ],
   "source": [
    "\n",
    "trad2simp={}\n",
    "line_num=0\n",
    "num_incor=0\n",
    "error_per_char=defaultdict(int)\n",
    "num_per_char=defaultdict(int)\n",
    "\n",
    "with open(result+'_error', 'w') as error_f:\n",
    "# #    fieldnames_score=['char_gold',\"char_orig\",'error_rate']\n",
    "#     writer_score=csv.DictWriter(score_f,fieldnames=fieldnames_score)\n",
    "#     writer_score.writeheader()\n",
    "    with open(result, 'r') as res_f:\n",
    "        fieldnames = ['char_res','orig_char', 'gold_char','char_index','res','orig','gold','orig_line_num','line_num_in_gold']\n",
    "        writer = csv.DictWriter(error_f, fieldnames=fieldnames)\n",
    "\n",
    "        writer.writeheader()\n",
    "        for line in res_f:\n",
    "            line=line.rstrip()\n",
    "            char_i=gold_csv['char_index'][line_num]\n",
    "            char_gold=gold_csv['gold_char'][line_num]\n",
    "            if model=='opencc':\n",
    "                char_res=line[char_i]\n",
    "            elif model=='we':\n",
    "                char_res=line[0]\n",
    "            char_orig=gold_csv['orig_char'][line_num]\n",
    "            trad2simp[char_gold]=char_orig\n",
    "            num_per_char[char_gold]+=1\n",
    "\n",
    "\n",
    "            if char_gold!=char_res:\n",
    "                \n",
    "                if char_res in yitizi:\n",
    "                    \n",
    "                    if yitizi[char_res]==char_gold:\n",
    "                        \n",
    "                        error_per_char[char_gold]=error_per_char[char_gold]\n",
    "                \n",
    "                else:\n",
    "                    if char_res not in multi_trad_official:\n",
    "                        logging.warning('{0} for {1} not in multi_trad_official. Might be yitizi'.format(char_res,char_gold))\n",
    "                    gold_dict[line_num]['char_res']=char_res\n",
    "                    gold_dict[line_num]['res']=line\n",
    "                    gold_dict[line_num]['line_num_in_gold']=line_num\n",
    "                    writer.writerow(gold_dict[line_num])\n",
    "                    num_incor+=1\n",
    "                    error_per_char[char_gold]+=1\n",
    "            else:\n",
    "                error_per_char[char_gold]=error_per_char[char_gold]\n",
    "            line_num+=1 \n",
    "            \n",
    "with open(result+'_score','w') as score_f:\n",
    "    fieldnames_score=['char_gold',\"char_orig\",'error_num','total']\n",
    "    writer_score=csv.DictWriter(score_f,fieldnames=fieldnames_score)\n",
    "    writer_score.writeheader()\n",
    "    for key in error_per_char:\n",
    "        writer_score.writerow ({'char_gold':key, 'char_orig': trad2simp[key],'error_num':int(error_per_char[key]), 'total':num_per_char[key]})\n",
    "    writer_score.writerow ({'char_gold':'total', 'char_orig': 'total','error_num':num_incor, 'total':len(gold_dict)})\n",
    "\n",
    "logging.info ('{0} incorrect cases'.format(num_incor))\n",
    "logging.info('of total {0}'.format(len(gold_csv)))\n",
    "logging.info ('error rate {0}'.format(float(num_incor/len(gold_dict))))"
   ]
  }
 ],
 "metadata": {
  "kernelspec": {
   "display_name": "Python 3",
   "language": "python",
   "name": "python3"
  },
  "language_info": {
   "codemirror_mode": {
    "name": "ipython",
    "version": 3
   },
   "file_extension": ".py",
   "mimetype": "text/x-python",
   "name": "python",
   "nbconvert_exporter": "python",
   "pygments_lexer": "ipython3",
   "version": "3.6.4"
  }
 },
 "nbformat": 4,
 "nbformat_minor": 2
}
