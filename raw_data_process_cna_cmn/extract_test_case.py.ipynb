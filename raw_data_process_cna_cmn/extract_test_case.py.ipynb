{
 "cells": [
  {
   "cell_type": "code",
   "execution_count": 95,
   "metadata": {},
   "outputs": [],
   "source": [
    "\n",
    "from collections import defaultdict\n",
    "import json\n",
    "import sys\n",
    "import random\n",
    "\n",
    "# simp2trad=sys.argv[1]\n",
    "# tra2simp=sys.argv[2]\n",
    "# trad_inf=sys.argv[3]\n",
    "# simp_inf=sys.argv[4]\n",
    "simp2trad='./simp2tra.json'\n",
    "trad2simp='./tra2simp.json'\n",
    "trad_inf='./data/trad_lines'\n",
    "simp_inf='./data/simp_lines'\n",
    "#import simplejson as json"
   ]
  },
  {
   "cell_type": "code",
   "execution_count": null,
   "metadata": {
    "scrolled": true
   },
   "outputs": [],
   "source": [
    "simp2trad=json.load(open(simp2trad, 'r'))\n",
    "tra2simp=json.load(open(trad2simp, 'r'))"
   ]
  },
  {
   "cell_type": "code",
   "execution_count": 92,
   "metadata": {
    "scrolled": true
   },
   "outputs": [
    {
     "name": "stdout",
     "output_type": "stream",
     "text": [
      "147 simplified character types with multiple traditional chars aligned\n",
      "12 tra character types with multiple simplified chars aligned\n",
      "24 ambigous simplified characters\n",
      "302 ambigous traditional characters\n"
     ]
    }
   ],
   "source": [
    "#only keep keys with multiple entries with each entry's count >1000\n",
    "simp2multitrad={}\n",
    "trad2multisimp={}\n",
    "for key in simp2trad:\n",
    "    if len(simp2trad[key].keys())>1: \n",
    "        temp_dict={}\n",
    "        for tra_key in simp2trad[key]:\n",
    "            if int(simp2trad[key][tra_key])>=1000:\n",
    "                temp_dict[tra_key]=simp2trad[key][tra_key]\n",
    "        if len(temp_dict)>1:\n",
    "            simp2multitrad[key]=dict(temp_dict)\n",
    "for key in tra2simp:\n",
    "    if len(tra2simp[key].keys())>1:\n",
    "        temp_dict={}\n",
    "        for simp_key in tra2simp[key]:\n",
    "            if int(tra2simp[key][simp_key])>=1000:\n",
    "                temp_dict[simp_key]=tra2simp[key][simp_key]\n",
    "        if len(temp_dict)>1:\n",
    "            trad2multisimp[key]=dict(temp_dict)\n",
    "        \n",
    "#num of simplified characters with multiple traditional\n",
    "print (len(simp2multitrad), 'simplified character types with multiple traditional chars aligned')\n",
    "#num of tra characters with multiple simplified\n",
    "print (len(trad2multisimp),'tra character types with multiple simplified chars aligned')\n",
    "\n",
    "#compile multitrad tra characters\n",
    "multitrad={}\n",
    "multisimp={}\n",
    "for chars in simp2multitrad.values():\n",
    "    multitrad.update(chars)\n",
    "for chars in trad2multisimp.values():\n",
    "    multisimp.update(chars)\n",
    "\n",
    "print (len(multisimp), 'ambigous simplified characters')\n",
    "print (len(multitrad), 'ambigous traditional characters')\n"
   ]
  },
  {
   "cell_type": "code",
   "execution_count": 62,
   "metadata": {},
   "outputs": [],
   "source": [
    "# process files to extract test cases, max 20 sentences per ambiguous charactesr\n",
    "\n",
    "\n",
    "\n",
    "trad_lines=open(trad_inf).readlines()\n",
    "simp_lines=open(simp_inf).readlines()\n",
    "\n",
    "\n"
   ]
  },
  {
   "cell_type": "code",
   "execution_count": 131,
   "metadata": {},
   "outputs": [
    {
     "name": "stdout",
     "output_type": "stream",
     "text": [
      "7709 ambiguous trad char test cases 486 ambigous simp char test cases\n"
     ]
    }
   ],
   "source": [
    "max_per_char=10000\n",
    "simp_max=0\n",
    "for key in multisimp:\n",
    "    simp_max+=int(multisimp[key]/max_per_char)\n",
    "    \n",
    "trad_max=0\n",
    "for key in multitrad:\n",
    "    trad_max+=int(multitrad[key]/max_per_char)\n",
    "print('{0} ambiguous trad char test cases'.format(trad_max), '{0} ambigous simp char test cases'.format(simp_max))"
   ]
  },
  {
   "cell_type": "code",
   "execution_count": null,
   "metadata": {},
   "outputs": [],
   "source": [
    "#generate a random list\n",
    "ran_is=list(range(len(trad_lines)))\n",
    "random.shuffle(ran_is)\n",
    "print ('generate a random list')"
   ]
  },
  {
   "cell_type": "code",
   "execution_count": 127,
   "metadata": {
    "scrolled": true
   },
   "outputs": [
    {
     "name": "stdout",
     "output_type": "stream",
     "text": [
      "defaultdict(<class 'list'>, {})\n"
     ]
    }
   ],
   "source": [
    "trad_testcases=0\n",
    "simp_testcases=0\n",
    "test_multitrad=defaultdict(list)\n",
    "test_multisimp=defaultdict(list)\n",
    "\n",
    "for ran_i in ran_is:\n",
    "        \n",
    "        if  trad_testcases>=trad_max and simp_testcases>=simp_max:\n",
    "            break\n",
    "        if trad_testcases<trad_max:\n",
    "            \n",
    "\n",
    "            #read traditional lines\n",
    "            line=trad_lines[ran_i]\n",
    "\n",
    "            for char_i in range(len(line)):\n",
    "                char=line[char_i]\n",
    "                if char not in multitrad:\n",
    "                    continue\n",
    "                else: \n",
    "\n",
    "                    if len(test_multitrad[char])< int(multitrad[char]/max_per_char):\n",
    "                        test_multitrad[char].append({'char_index':char_i,'orig_line_num':ran_i,'line':line,'gold':simp_lines[line_num]})\n",
    "                        trad_testcases+=1\n",
    "        \n",
    "\n",
    "        if simp_testcases<simp_max:\n",
    "            #read simplified lines\n",
    "            line=simp_lines[ran_i]\n",
    "\n",
    "            for char_i in range(len(line)):\n",
    "                char=line[char_i]\n",
    "                if char not in multisimp:\n",
    "                    continue\n",
    "                else:\n",
    "                    if len(test_multisimp[char])< int(multisimp[char]/max_per_char):\n",
    "                        test_multisimp[char].append({'char_index':char_i,'orig_line_num':ran_i,'line':line,'gold':trad_lines[line_num]})\n",
    "                        simp_testcases+=1\n",
    "\n",
    "        "
   ]
  },
  {
   "cell_type": "code",
   "execution_count": 129,
   "metadata": {},
   "outputs": [
    {
     "name": "stdout",
     "output_type": "stream",
     "text": [
      "205 ambigous trad char types in the test cases\n",
      "15 ambigous simp char types in the test cases\n"
     ]
    }
   ],
   "source": [
    "\n",
    "\n",
    "for key in list(test_multisimp.keys()):\n",
    "    if test_multisimp[key]==[]:\n",
    "        test_multisimp.pop(key)\n",
    "for key in list(test_multitrad.keys()):\n",
    "    if test_multitrad[key]==[]:\n",
    "        test_multitrad.pop(key)\n",
    "print (len(test_multitrad), 'ambigous trad char types in the test cases')\n",
    "print (len(test_multisimp), 'ambigous simp char types in the test cases')"
   ]
  },
  {
   "cell_type": "code",
   "execution_count": 15,
   "metadata": {},
   "outputs": [],
   "source": [
    "#store test cases\n",
    "\n",
    "with open('trad_test.json','w') as f:\n",
    "    json.dump(test_multitrad,f)\n",
    "    \n",
    "with open('simp_test.json', 'w') as f:\n",
    "    json.dump(test_multisimp, f)\n"
   ]
  },
  {
   "cell_type": "code",
   "execution_count": 13,
   "metadata": {
    "scrolled": true
   },
   "outputs": [],
   "source": [
    "#delete the test sentences from the corpus to form training dataset\n",
    "line_nums=sorted(set(lines_num_trad+lines_num_simp),reverse=True)\n",
    "\n",
    "with open('./data/trad_train', 'w') as f:\n",
    "    for line_num in line_nums:\n",
    "        del trad_lines[line_num]\n",
    "    f.writelines(trad_lines)\n",
    "\n",
    "with open('./data/simp_train', 'w') as f:\n",
    "    for line_num in line_nums:\n",
    "        del simp_lines[line_num]\n",
    "    f.writelines(simp_lines)"
   ]
  },
  {
   "cell_type": "code",
   "execution_count": 77,
   "metadata": {},
   "outputs": [
    {
     "data": {
      "text/plain": [
       "[3, 1, 2]"
      ]
     },
     "execution_count": 77,
     "metadata": {},
     "output_type": "execute_result"
    }
   ],
   "source": [
    "a=[1,2,3]\n",
    "random.shuffle(a)\n",
    "a"
   ]
  },
  {
   "cell_type": "code",
   "execution_count": 85,
   "metadata": {},
   "outputs": [],
   "source": [
    "a=random.shuffle(list(range(10)))\n",
    "a"
   ]
  }
 ],
 "metadata": {
  "kernelspec": {
   "display_name": "Python 3",
   "language": "python",
   "name": "python3"
  },
  "language_info": {
   "codemirror_mode": {
    "name": "ipython",
    "version": 3
   },
   "file_extension": ".py",
   "mimetype": "text/x-python",
   "name": "python",
   "nbconvert_exporter": "python",
   "pygments_lexer": "ipython3",
   "version": "3.6.4"
  }
 },
 "nbformat": 4,
 "nbformat_minor": 2
}
