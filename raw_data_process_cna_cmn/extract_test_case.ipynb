{
 "cells": [
  {
   "cell_type": "code",
   "execution_count": 13,
   "metadata": {},
   "outputs": [
    {
     "name": "stderr",
     "output_type": "stream",
     "text": [
      "DEBUG:root:prefix is ldc\n"
     ]
    }
   ],
   "source": [
    "from collections import defaultdict\n",
    "import json\n",
    "import sys\n",
    "import random\n",
    "import copy\n",
    "import csv\n",
    "\n",
    "\n",
    "import logging\n",
    "if sys.argv[0]=='/opt/conda/lib/python3.6/site-packages/ipykernel_launcher.py':\n",
    "    prefix='ldc'\n",
    "    logging.basicConfig(level=logging.DEBUG)\n",
    "    logging.debug('prefix is {0}'.format(prefix))\n",
    "else:\n",
    "    logging.basicConfig(filename='extract_test_case.log',level=logging.DEBUG)\n",
    "\n",
    "    \n",
    "    \n",
    "    if len(sys.argv)==2:\n",
    "    #if len(sys.argv)==12:\n",
    "        prefix=sys.argv[1]\n",
    "    else: \n",
    "        print ('no argument or more arguments passed. Back to default prefix train')\n",
    "        prefix='ldc'\n",
    "\n",
    "        logging.warning('no arguments passed. Back to default prefix {0}'.format(prefix))\n",
    "    \n",
    "simp_ouf='../corpora/{0}.sc'.format(prefix)\n",
    "simp2trad='./simp2tra.json'\n",
    "trad2simp='./tra2simp.json'\n",
    "trad_inf='./data/{0}.tc'.format(prefix)\n",
    "simp_inf='./data/{0}.sc'.format(prefix)\n",
    "trad_ouf='../corpora/{0}.tc'.format(prefix)\n",
    "simp_ouf='../corpora/{0}.sc'.format(prefix)\n",
    "\n",
    "#import simplejson as json"
   ]
  },
  {
   "cell_type": "code",
   "execution_count": 11,
   "metadata": {
    "scrolled": true
   },
   "outputs": [],
   "source": [
    "simp2trad=json.load(open(simp2trad, 'r'))\n",
    "tra2simp=json.load(open(trad2simp, 'r'))\n"
   ]
  },
  {
   "cell_type": "code",
   "execution_count": 12,
   "metadata": {
    "scrolled": true
   },
   "outputs": [
    {
     "name": "stderr",
     "output_type": "stream",
     "text": [
      "INFO:root:reading in simp2trad and trad2simp. Only keep ambigous chars\n",
      "DEBUG:root:147 simplified character types with multiple traditional chars aligned\n",
      "DEBUG:root:12 tra character types with multiple simplified chars aligned\n",
      "DEBUG:root:24 ambigous simplified character types\n",
      "DEBUG:root:302 ambigous traditional character types\n"
     ]
    },
    {
     "name": "stdout",
     "output_type": "stream",
     "text": [
      "147 simplified character types with multiple traditional chars aligned\n",
      "12 tra character types with multiple simplified chars aligned\n",
      "24 ambigous simplified character types\n",
      "302 ambigous traditional character types\n"
     ]
    }
   ],
   "source": [
    "logging.info('reading in simp2trad and trad2simp. Only keep ambigous chars')\n",
    "#only keep keys with multiple entries with each entry's count >1000\n",
    "simp2multitrad={}\n",
    "trad2multisimp={}\n",
    "for key in simp2trad:\n",
    "    if len(simp2trad[key].keys())>1: \n",
    "        temp_dict={}\n",
    "        for tra_key in simp2trad[key]:\n",
    "            if int(simp2trad[key][tra_key])>=1000:\n",
    "                temp_dict[tra_key]=simp2trad[key][tra_key]\n",
    "        if len(temp_dict)>1:\n",
    "            simp2multitrad[key]=dict(temp_dict)\n",
    "for key in tra2simp:\n",
    "    if len(tra2simp[key].keys())>1:\n",
    "        temp_dict={}\n",
    "        for simp_key in tra2simp[key]:\n",
    "            if int(tra2simp[key][simp_key])>=1000:\n",
    "                temp_dict[simp_key]=tra2simp[key][simp_key]\n",
    "        if len(temp_dict)>1:\n",
    "            trad2multisimp[key]=dict(temp_dict)\n",
    "        \n",
    "#num of simplified characters with multiple traditional\n",
    "print (len(simp2multitrad), 'simplified character types with multiple traditional chars aligned')\n",
    "logging.debug ('{0} simplified character types with multiple traditional chars aligned'.format(len(simp2multitrad)))\n",
    "\n",
    "#num of tra characters with multiple simplified\n",
    "print (len(trad2multisimp),'tra character types with multiple simplified chars aligned')\n",
    "logging.debug ('{0} tra character types with multiple simplified chars aligned'.format(len(trad2multisimp)))\n",
    "\n",
    "#compile multitrad tra characters\n",
    "multitrad={}\n",
    "multisimp={}\n",
    "for chars in simp2multitrad.values():\n",
    "    multitrad.update(chars)\n",
    "for chars in trad2multisimp.values():\n",
    "    multisimp.update(chars)\n",
    "\n",
    "\n",
    "print(len(multisimp), 'ambigous simplified character types')\n",
    "print (len(multitrad), 'ambigous traditional character types')\n",
    "logging.debug( '{0} ambigous simplified character types'.format(len(multisimp)))\n",
    "logging.debug ( '{0} ambigous traditional character types'.format(len(multitrad)))"
   ]
  },
  {
   "cell_type": "code",
   "execution_count": 18,
   "metadata": {
    "scrolled": false
   },
   "outputs": [
    {
     "name": "stdout",
     "output_type": "stream",
     "text": [
      "filtering the following chars...\n",
      "几 几\n",
      "才 纔\n",
      "万 万\n",
      "千 韆\n",
      "仆 仆\n",
      "术 朮\n",
      "叶 叶 e\n",
      "冬 鼕\n",
      "吁 吁\n",
      "团 糰\n",
      "朱 硃\n",
      "合 閤\n",
      "纤 縴\n",
      "坛 罈\n",
      "坝 垻 e\n",
      "苏 囌\n",
      "卤 鹵\n",
      "困 睏\n",
      "别 彆\n",
      "刮 颳\n",
      "帘 帘\n",
      "种 种\n",
      "秋 鞦\n",
      "党 党\n",
      "累 纍\n",
      "旋 鏇 e\n",
      "淀 淀\n",
      "摆 襬\n",
      "蒙 懞\n",
      "漓 灕\n",
      "辟 辟\n",
      "篱 篱 e\n",
      "芸 蕓\n",
      "64 simp2trad_official_final test case simp char types\n"
     ]
    }
   ],
   "source": [
    "#filter and extract test case characters\n",
    "simp2trad_official_final=defaultdict(str)\n",
    "multitrad_final=[]\n",
    "\n",
    "logging.debug ('filtering the following chars which are <1000..')\n",
    "\n",
    "print ('filtering the following chars...')\n",
    "with open('./simp2multitrad_official.txt') as f:\n",
    "    for line in f:\n",
    "        line=line.strip()\n",
    "        line=line.split('\\t')\n",
    "        simp_char=line[0]\n",
    "        trad_chars=line[2].replace('～',line[0])\n",
    "        #filter according to fre and outut\n",
    "        trad_char_per_simp=''\n",
    "        for trad_char in trad_chars:\n",
    "            try:\n",
    "                freq = simp2trad[simp_char][trad_char]\n",
    "                if freq < 1000:\n",
    "                    print(simp_char, trad_char)\n",
    "                    logging.debug('{0} {1}'.format(simp_char, trad_char))\n",
    "                else:\n",
    "                    trad_char_per_simp += trad_char\n",
    "            except KeyError:\n",
    "                print(simp_char, trad_char, 'e')\n",
    "                logging.warning('{0} {1} {2}'.format(simp_char, trad_char, 'e'))\n",
    "\n",
    "        if len(trad_char_per_simp) > 1:\n",
    "                simp2trad_official_final[simp_char]=trad_char_per_simp\n",
    "                multitrad_final+=list(trad_char_per_simp)\n",
    "print (len(simp2trad_official_final),'simp2trad_official_final test case simp char types')\n",
    "logging.info ('{0} simp2trad_official_final test case simp char types'.format(len(simp2trad_official_final)))\n",
    "\n",
    "if len(multitrad_final)!=len(set(multitrad_final)):\n",
    "    print ('warning! the same traditional character can be mapped onto different simplified characters ')\n",
    "    logging.warning('warning! the same traditional character can be mapped onto different simplified characters ')\n",
    "\n",
    "    "
   ]
  },
  {
   "cell_type": "code",
   "execution_count": 19,
   "metadata": {
    "scrolled": true
   },
   "outputs": [
    {
     "name": "stdout",
     "output_type": "stream",
     "text": [
      "{'劃': 486564, '畫': 407509, '划': 7572} 划劃\n",
      "{'裡': 142527, '里': 517793, '裏': 3843} 里裏\n",
      "{'復': 412803, '複': 92741, '覆': 62808} 復複\n"
     ]
    }
   ],
   "source": [
    "# show differences between simp2trad_offical and the corpus\n",
    "logging.info('show differences between simp2trad_offical and the corpus')\n",
    "for sim_char in simp2trad_official_final:\n",
    "    \n",
    "   simp2trad_lst= sorted(list(simp2multitrad[sim_char].keys()))\n",
    "   simp2trad_official_lst=sorted(list(simp2trad_official_final[sim_char]))\n",
    "   if simp2trad_official_lst!=simp2trad_lst:\n",
    "        print(simp2multitrad[sim_char],simp2trad_official_final[sim_char])\n",
    "        logging.debug('{0} {1} '.format(simp2multitrad[sim_char],simp2trad_official_final[sim_char]))"
   ]
  },
  {
   "cell_type": "code",
   "execution_count": 20,
   "metadata": {},
   "outputs": [],
   "source": [
    "# process files to extract test cases according to prob (1/10000 cases per char)\n",
    "\n",
    "logging.info('read tradlines and simplines...')\n",
    "\n",
    "trad_lines=open(trad_inf).readlines()\n",
    "simp_lines=open(simp_inf).readlines()\n",
    "\n",
    "\n"
   ]
  },
  {
   "cell_type": "code",
   "execution_count": 21,
   "metadata": {},
   "outputs": [
    {
     "name": "stdout",
     "output_type": "stream",
     "text": [
      "aim to find 13300 ambiguous trad char test cases 0 ambigous simp char test cases\n"
     ]
    }
   ],
   "source": [
    "####extract a fixed number of chars\n",
    "max_per_char=100\n",
    "trad_max=max_per_char*len(multitrad_final)\n",
    "simp_max=0\n",
    "###extract according to probability\n",
    "#max_per_char=10000\n",
    "# simp_max=0\n",
    "# for key in multisimp:\n",
    "#     #simp_max+=int(multisimp[key]/max_per_char)\n",
    "    \n",
    "# trad_max=0\n",
    "# for key in multitrad:\n",
    "#     trad_max+=int(multitrad[key]/max_per_char)\n",
    "print('aim to find {0} ambiguous trad char test cases'.format(trad_max), '{0} ambigous simp char test cases'.format(simp_max))\n",
    "logging.info('{0},{1}'.format('aim to find {0} ambiguous trad char test cases'.format(trad_max), '{0} ambigous simp char test cases'.format(simp_max)))\n",
    "\n",
    "\n"
   ]
  },
  {
   "cell_type": "code",
   "execution_count": 22,
   "metadata": {},
   "outputs": [
    {
     "name": "stdout",
     "output_type": "stream",
     "text": [
      "generate a random list\n"
     ]
    }
   ],
   "source": [
    "#generate a random list\n",
    "ran_is=list(range(len(trad_lines)))\n",
    "random.Random(1).shuffle(ran_is)\n",
    "\n",
    "print ('generate a random list')\n",
    "logging.info ('generate a random list')\n"
   ]
  },
  {
   "cell_type": "code",
   "execution_count": 9,
   "metadata": {},
   "outputs": [
    {
     "data": {
      "text/plain": [
       "defaultdict(str,\n",
       "            {'丑': '丑醜',\n",
       "             '丰': '丰豐',\n",
       "             '了': '了瞭',\n",
       "             '云': '云雲',\n",
       "             '伙': '伙夥',\n",
       "             '余': '余餘',\n",
       "             '借': '借藉',\n",
       "             '克': '克剋',\n",
       "             '冲': '沖衝',\n",
       "             '准': '准準',\n",
       "             '出': '出齣',\n",
       "             '划': '划劃',\n",
       "             '制': '制製',\n",
       "             '卜': '卜蔔',\n",
       "             '卷': '卷捲',\n",
       "             '历': '歷曆',\n",
       "             '发': '發髮',\n",
       "             '只': '只隻',\n",
       "             '台': '台臺颱檯',\n",
       "             '后': '后後',\n",
       "             '向': '向嚮',\n",
       "             '咸': '咸鹹',\n",
       "             '回': '回迴',\n",
       "             '复': '復複',\n",
       "             '夸': '夸誇',\n",
       "             '姜': '姜薑',\n",
       "             '家': '家傢',\n",
       "             '尽': '盡儘',\n",
       "             '干': '干乾幹',\n",
       "             '弥': '彌瀰',\n",
       "             '当': '當噹',\n",
       "             '征': '征徵',\n",
       "             '御': '御禦',\n",
       "             '恶': '惡噁',\n",
       "             '折': '折摺',\n",
       "             '据': '据據',\n",
       "             '斗': '斗鬥',\n",
       "             '曲': '曲麴',\n",
       "             '朴': '朴樸',\n",
       "             '松': '松鬆',\n",
       "             '板': '板闆',\n",
       "             '汇': '匯彙',\n",
       "             '沈': '沈瀋',\n",
       "             '涂': '涂塗',\n",
       "             '症': '症癥',\n",
       "             '筑': '筑築',\n",
       "             '签': '簽籤',\n",
       "             '系': '系係繫',\n",
       "             '胡': '胡鬍',\n",
       "             '脏': '臟髒',\n",
       "             '致': '致緻',\n",
       "             '舍': '舍捨',\n",
       "             '范': '范範',\n",
       "             '获': '獲穫',\n",
       "             '蒙': '蒙濛矇',\n",
       "             '蔑': '蔑衊',\n",
       "             '表': '表錶',\n",
       "             '谷': '谷穀',\n",
       "             '郁': '郁鬱',\n",
       "             '里': '里裏',\n",
       "             '钟': '鍾鐘',\n",
       "             '面': '面麵',\n",
       "             '须': '須鬚',\n",
       "             '饥': '飢饑'})"
      ]
     },
     "execution_count": 9,
     "metadata": {},
     "output_type": "execute_result"
    }
   ],
   "source": [
    "simp2trad_official_final"
   ]
  },
  {
   "cell_type": "code",
   "execution_count": 23,
   "metadata": {
    "scrolled": true
   },
   "outputs": [
    {
     "ename": "SyntaxError",
     "evalue": "invalid syntax (<ipython-input-23-3798c46a0a23>, line 34)",
     "output_type": "error",
     "traceback": [
      "\u001b[0;36m  File \u001b[0;32m\"<ipython-input-23-3798c46a0a23>\"\u001b[0;36m, line \u001b[0;32m34\u001b[0m\n\u001b[0;31m    else:\u001b[0m\n\u001b[0m       ^\u001b[0m\n\u001b[0;31mSyntaxError\u001b[0m\u001b[0;31m:\u001b[0m invalid syntax\n"
     ]
    }
   ],
   "source": [
    "logging.info('extracting test cases')\n",
    "\n",
    "trad_testcases=[]\n",
    "simp_testcases=[]\n",
    "test_multitrad=defaultdict(list)\n",
    "test_multisimp=defaultdict(list)\n",
    "tra_line_matched=False\n",
    "\n",
    "for ran_i in ran_is:\n",
    "        \n",
    "        if  len(trad_testcases)>=trad_max and len(simp_testcases)>=simp_max:\n",
    "            print ('max reached')\n",
    "            logging.info('max reached')\n",
    "            break\n",
    "        if len(trad_testcases)<trad_max:\n",
    "            \n",
    "\n",
    "            #read traditional lines\n",
    "            line=trad_lines[ran_i]\n",
    "            line=line.strip()\n",
    "            for char_i in range(len(line)):\n",
    "                char=line[char_i]\n",
    "                if char not in multitrad_final:\n",
    "                    continue\n",
    "                else: \n",
    "\n",
    "                    #if len(test_multitrad[char])< int(multitrad[char]/max_per_char): \n",
    "                    if len(test_multitrad[char])<max_per_char:\n",
    "                        test_char=simp_lines[ran_i].strip()[char_i]\n",
    "                        if test_char not in simp2trad_official_final:\n",
    "                            print ('test_char {0} (simp) for {1} (trad) not in simp2trad_official_final'.format(test_char, char))\n",
    "                            logging.warning ('test_char {0} (simp) for {1} (trad) not in simp2trad_official_final'.format(test_char, char))\n",
    "\n",
    "                        else:\n",
    "                            test_multitrad[char].append({'char_index':char_i,'orig_line_num':ran_i,'gold':line, 'orig_char':test_char,'orig':simp_lines[ran_i].strip()})\n",
    "                            trad_testcases.append(ran_i)\n",
    "                            tra_line_matched=True\n",
    "                            break #diversify the test cases. Once a sentence is matched, continue searching for later sents\n",
    "\n",
    "        \n",
    "        if tra_line_matched==True: #mdiversify the test cases\n",
    "            tra_line_matched=False\n",
    "            continue\n",
    "            \n",
    "            \n",
    "        elif len(simp_testcases)<simp_max:\n",
    "            #read simplified lines\n",
    "            line=simp_lines[ran_i]\n",
    "\n",
    "            for char_i in range(len(line)):\n",
    "                char=line[char_i]\n",
    "                if char not in multisimp:\n",
    "                    continue\n",
    "                else:\n",
    "                    if len(test_multisimp[char])< int(multisimp[char]/max_per_char):\n",
    "                        test_multisimp[char].append({'char_index':char_i,'orig_line_num':ran_i,'gold':line,'orig_char':trad_lines[ran_i][char_i],'orig':trad_lines[ran_i].strip()})\n",
    "                        simp_testcases.append(ran_i)\n",
    "                        break\n",
    "        "
   ]
  },
  {
   "cell_type": "code",
   "execution_count": 27,
   "metadata": {},
   "outputs": [
    {
     "name": "stdout",
     "output_type": "stream",
     "text": [
      "133 ambigous trad char types in the test cases\n",
      "0 ambigous simp char types in the test cases\n"
     ]
    }
   ],
   "source": [
    "\n",
    "\n",
    "for key in list(test_multisimp.keys()):\n",
    "    if test_multisimp[key]==[]:\n",
    "        test_multisimp.pop(key)\n",
    "for key in list(test_multitrad.keys()):\n",
    "    if test_multitrad[key]==[]:\n",
    "        test_multitrad.pop(key)\n",
    "print (len(test_multitrad), 'ambigous trad char types in the test cases')\n",
    "logging.info ( '{0} ambigous trad char types in the test cases'.format(len(test_multitrad)))\n",
    "\n",
    "print (len(test_multisimp), 'ambigous simp char types in the test cases')\n",
    "logging.info ( '{0} ambigous simp char types in the test cases'.format(len(test_multisimp),))"
   ]
  },
  {
   "cell_type": "code",
   "execution_count": 36,
   "metadata": {},
   "outputs": [],
   "source": [
    "#store test cases as csv and json\n",
    "logging.info('storing the test cases')\n",
    "with open ('../eval/test_cases/ldc_simp2trad_test', 'w') as f_txt:\n",
    "\n",
    "    with open('../eval/test_cases/ldc_simp2trad_gold.csv', 'w') as csvfile:\n",
    "        fieldnames = ['orig_char', 'gold_char','char_index','orig','gold','orig_line_num']\n",
    "        writer = csv.DictWriter(csvfile, fieldnames=fieldnames)\n",
    "\n",
    "        writer.writeheader()\n",
    "\n",
    "        for key in test_multitrad:\n",
    "            for line in test_multitrad[key]:\n",
    "                line['gold_char']=key\n",
    "                writer.writerow(line)\n",
    "                f_txt.write(line['orig']+'\\n')\n",
    "# with open('trad2multisimp_test.csv', 'w') as csvfile:\n",
    "#     fieldnames = ['orig_char', 'gold_char','char_index','orig','gold','orig_line_num']\n",
    "#     writer = csv.DictWriter(csvfile, fieldnames=fieldnames)\n",
    "\n",
    "#     writer.writeheader()\n",
    "    \n",
    "#     for key in trad2multisimp_test:\n",
    "#         for line in trad2multisimp_test[key]:\n",
    "#             line['gold_char']=key\n",
    "#             writer.writerow(line)\n",
    "# with open('../eval/test_cases/simp2multitrad_test.json','w') as f:\n",
    "#     json.dump(test_multitrad,f)\n",
    "    \n",
    "# with open('../eval/test_cases/trad2multisimp_test.json', 'w') as f:\n",
    "#     json.dump(test_multisimp, f)\n"
   ]
  },
  {
   "cell_type": "code",
   "execution_count": 37,
   "metadata": {},
   "outputs": [
    {
     "name": "stdout",
     "output_type": "stream",
     "text": [
      "trad lines 24872293 simp_lines 24872293\n"
     ]
    }
   ],
   "source": [
    "#delete the test sentences from the corpus to form training dataset\n",
    "logging.info('deleting the test cases')\n",
    "line_nums=set(trad_testcases+simp_testcases)\n",
    "logging.debug ('{0} {1} {2} {3}'.format('trad lines orig',len(trad_lines),'simp_lines orig',len(simp_lines)))\n",
    "\n",
    "line_no=0\n",
    "with open(trad_ouf, 'w') as trad_f:\n",
    "    with open (simp_ouf,'w') as simp_f:\n",
    "        for line_num in range(len(trad_lines)):\n",
    "            if line_num not in line_nums:\n",
    "                trad_f.write(trad_lines[line_num])\n",
    "                simp_f.write(simp_lines[line_num])\n",
    "                line_no+=1\n",
    "            else:\n",
    "                \n",
    "                pass\n",
    "logging.debug ('{0} {1} {2} {3}'.format('trad lines',line_no,'simp_lines',line_no)) \n",
    "\n",
    " \n"
   ]
  }
 ],
 "metadata": {
  "kernelspec": {
   "display_name": "Python 3",
   "language": "python",
   "name": "python3"
  },
  "language_info": {
   "codemirror_mode": {
    "name": "ipython",
    "version": 3
   },
   "file_extension": ".py",
   "mimetype": "text/x-python",
   "name": "python",
   "nbconvert_exporter": "python",
   "pygments_lexer": "ipython3",
   "version": "3.6.4"
  }
 },
 "nbformat": 4,
 "nbformat_minor": 2
}
